{
 "cells": [
  {
   "cell_type": "markdown",
   "metadata": {},
   "source": [
    "# Databricks Connect Sandbox\n",
    "\n",
    "The code you write here will be executed on a Databricks cluster. Ensure that you have the following set up:\n",
    "\n",
    "1. Install [databricks-connect](https://docs.databricks.com/en/dev-tools/databricks-connect/python/install.html#install-databricks-connect-for-python).\n",
    "\n",
    "2. Create a cluster in the development workspace and note its [ID](https://docs.databricks.com/en/workspace/workspace-details.html#cluster-url-and-id).\n",
    "\n",
    "3. Configure a Databricks profile to access the cluster.\n",
    "\n",
    "For detailed instructions, check the [Databricks Connect for Python](https://docs.databricks.com/en/dev-tools/databricks-connect/python/index.html#databricks-connect-for-python)."
   ]
  },
  {
   "cell_type": "code",
   "execution_count": null,
   "metadata": {},
   "outputs": [],
   "source": [
    "# Import necessary module\n",
    "from databricks.connect import DatabricksSession\n",
    "from databricks.sdk.core import Config\n",
    "\n",
    "# Configure Databricks session\n",
    "config = Config(\n",
    "    # profile='dev', # Databricks CLI profile, uses DEFAULT if not set\n",
    "    cluster_id='<your-cluster-id>'\n",
    ")\n",
    "\n",
    "spark = DatabricksSession.builder.sdkConfig(config).getOrCreate()\n",
    "\n",
    "# Interact with Databricks\n",
    "df = spark.read.table(\"samples.nyctaxi.trips\")\n",
    "df.show(5)"
   ]
  }
 ],
 "metadata": {
  "kernelspec": {
   "display_name": "Python 3",
   "language": "python",
   "name": "python3"
  },
  "language_info": {
   "codemirror_mode": {
    "name": "ipython",
    "version": 3
   },
   "file_extension": ".py",
   "mimetype": "text/x-python",
   "name": "python",
   "nbconvert_exporter": "python",
   "pygments_lexer": "ipython3",
   "version": "3.9.15"
  }
 },
 "nbformat": 4,
 "nbformat_minor": 2
}
