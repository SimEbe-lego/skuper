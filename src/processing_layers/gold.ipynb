{
 "cells": [
  {
   "cell_type": "markdown",
   "metadata": {},
   "source": [
    "# Gold",
    "\n",
    "Layer documentation available [here](https://baseplate.legogroup.io/docs/default/component/engineering-matters/data-matters/rfc/0001-three-layer-data-design-pattern/#gold)"
   ]
  },
  {
   "cell_type": "code",
   "execution_count": null,
   "metadata": {},
   "outputs": [],
   "source": [
    "from pyspark.sql.functions import sum\n",
    "\n",
    "# Read data from the Silver layer\n",
    "silver_data = spark.read.table(\"demos.template_silver.nyctaxi_trips\")\n",
    "\n",
    "# Perform the aggregation and ordering\n",
    "gold_data = silver_data.groupby(\"pickup_zip\", \"pickup_date\") \\\n",
    "    .agg(sum(\"fare\").alias(\"total_fare\")) \\\n",
    "    .orderBy(\"pickup_zip\", \"pickup_date\")\n",
    "\n",
    "# Save the aggregated data to the Gold layer\n",
    "gold_data.write.saveAsTable(\"demos.template_gold.nyctaxi_aggregated\")"
   ]
  }
 ],
 "metadata": {
  "language_info": {
   "name": "python"
  }
 },
 "nbformat": 4,
 "nbformat_minor": 2
}
