{
 "cells": [
  {
   "cell_type": "markdown",
   "metadata": {},
   "source": [
    "# Bronze\n",
    "\n",
    "Layer documentation available [here](https://baseplate.legogroup.io/docs/default/component/engineering-matters/data-matters/rfc/0001-three-layer-data-design-pattern/#bronze)"
   ]
  },
  {
   "cell_type": "code",
   "execution_count": null,
   "metadata": {},
   "outputs": [],
   "source": [
    "# Reading \"samples.nyctaxi.trips\" table as-is (external source)\n",
    "bronze_data = spark.read.table('samples.nyctaxi.trips')\n",
    "\n",
    "# Storing the data in a table within the \"template_bronze\" schema in the \"demos\" catalog\n",
    "bronze_data.write.saveAsTable(\"demos.template_bronze.nyctaxi_trips\")\n",
    "\n",
    "# Showing the resulting table\n",
    "display(bronze_data)"
   ]
  }
 ],
 "metadata": {
  "language_info": {
   "name": "python"
  }
 },
 "nbformat": 4,
 "nbformat_minor": 2
}
