{
 "cells": [
  {
   "cell_type": "markdown",
   "metadata": {},
   "source": [
    "# Silver\n",
    "\n",
    "Layer documentation available [here](https://baseplate.legogroup.io/docs/default/component/engineering-matters/data-matters/rfc/0001-three-layer-data-design-pattern/#silver)"
   ]
  },
  {
   "cell_type": "code",
   "execution_count": null,
   "metadata": {},
   "outputs": [],
   "source": [
    "from pyspark.sql.functions import expr, col\n",
    "\n",
    "# Read data from the Bronze layer (nyctaxi_trips table)\n",
    "bronze_data = spark.read.table(\"demos.template_bronze.nyctaxi_trips\")\n",
    "\n",
    "# Select and cast specific columns, and apply column aliases for readability\n",
    "silver_data = bronze_data.select(\n",
    "    col(\"pickup_zip\").cast(\"string\"),\n",
    "    col(\"dropoff_zip\").cast(\"string\"),\n",
    "    col(\"tpep_pickup_datetime\").cast(\"date\").alias(\"pickup_date\"),\n",
    "    col(\"trip_distance\").alias(\"distance\"),\n",
    "    col(\"fare_amount\").alias(\"fare\")\n",
    ").filter(\n",
    "    # Apply a filter\n",
    "    expr(\"dropoff_zip = '10001'\")\n",
    ")\n",
    "\n",
    "# Save the processed data to the Silver layer\n",
    "silver_data.write.saveAsTable(\"demos.template_silver.nyctaxi_trips\")"
   ]
  }
 ],
 "metadata": {
  "language_info": {
   "name": "python"
  }
 },
 "nbformat": 4,
 "nbformat_minor": 2
}
